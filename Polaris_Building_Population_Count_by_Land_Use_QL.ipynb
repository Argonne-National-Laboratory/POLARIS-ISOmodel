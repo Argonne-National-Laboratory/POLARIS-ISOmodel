{
 "cells": [
  {
   "cell_type": "markdown",
   "metadata": {},
   "source": [
    "# Jupyter Notebook for Counting Building Occupancy from Polaris Traffic Simulation Data"
   ]
  },
  {
   "cell_type": "markdown",
   "metadata": {},
   "source": [
    "This notebook will load a Polaris SQLlite data file into a Pandas data frame using sqlite3 libraries and count the average number of people in each building in each hour of the simulation."
   ]
  },
  {
   "cell_type": "markdown",
   "metadata": {},
   "source": [
    "For help with Jupyter notebooks\n",
    "\n",
    "For help on using sql with Pandas see\n",
    "http://www.pererikstrandberg.se/blog/index.cgi?page=PythonDataAnalysisWithSqliteAndPandas\n",
    "\n",
    "For help  on data analysis with Pandas see\n",
    "http://nbviewer.jupyter.org/github/jakevdp/PythonDataScienceHandbook/blob/master/notebooks/Index.ipynb"
   ]
  },
  {
   "cell_type": "code",
   "execution_count": 1,
   "metadata": {},
   "outputs": [],
   "source": [
    "import sqlite3\n",
    "import numpy as np\n",
    "import pandas as pd\n",
    "import matplotlib.pyplot as plt"
   ]
  },
  {
   "cell_type": "code",
   "execution_count": 2,
   "metadata": {},
   "outputs": [],
   "source": [
    "# Create your connection.  Assumes data is in a parallel subdirectory to this one\n",
    "cnx = sqlite3.connect('..\\data\\detroit-Demand.sqlite')"
   ]
  },
  {
   "cell_type": "code",
   "execution_count": 3,
   "metadata": {},
   "outputs": [
    {
     "output_type": "error",
     "ename": "DatabaseError",
     "evalue": "Execution failed on sql 'SELECT * FROM Beginning_Location_All': no such table: Beginning_Location_All",
     "traceback": [
      "\u001b[1;31m---------------------------------------------------------------------------\u001b[0m",
      "\u001b[1;31mOperationalError\u001b[0m                          Traceback (most recent call last)",
      "\u001b[1;32m~\\anaconda3\\lib\\site-packages\\pandas\\io\\sql.py\u001b[0m in \u001b[0;36mexecute\u001b[1;34m(self, *args, **kwargs)\u001b[0m\n\u001b[0;32m   1724\u001b[0m         \u001b[1;32mtry\u001b[0m\u001b[1;33m:\u001b[0m\u001b[1;33m\u001b[0m\u001b[1;33m\u001b[0m\u001b[0m\n\u001b[1;32m-> 1725\u001b[1;33m             \u001b[0mcur\u001b[0m\u001b[1;33m.\u001b[0m\u001b[0mexecute\u001b[0m\u001b[1;33m(\u001b[0m\u001b[1;33m*\u001b[0m\u001b[0margs\u001b[0m\u001b[1;33m,\u001b[0m \u001b[1;33m**\u001b[0m\u001b[0mkwargs\u001b[0m\u001b[1;33m)\u001b[0m\u001b[1;33m\u001b[0m\u001b[1;33m\u001b[0m\u001b[0m\n\u001b[0m\u001b[0;32m   1726\u001b[0m             \u001b[1;32mreturn\u001b[0m \u001b[0mcur\u001b[0m\u001b[1;33m\u001b[0m\u001b[1;33m\u001b[0m\u001b[0m\n",
      "\u001b[1;31mOperationalError\u001b[0m: no such table: Beginning_Location_All",
      "\nThe above exception was the direct cause of the following exception:\n",
      "\u001b[1;31mDatabaseError\u001b[0m                             Traceback (most recent call last)",
      "\u001b[1;32m<ipython-input-3-ac0675917d38>\u001b[0m in \u001b[0;36m<module>\u001b[1;34m\u001b[0m\n\u001b[0;32m      1\u001b[0m \u001b[1;31m# exract all the beginning locations of the building simulation\u001b[0m\u001b[1;33m\u001b[0m\u001b[1;33m\u001b[0m\u001b[1;33m\u001b[0m\u001b[0m\n\u001b[1;32m----> 2\u001b[1;33m \u001b[0mbeginning_location\u001b[0m \u001b[1;33m=\u001b[0m \u001b[0mpd\u001b[0m\u001b[1;33m.\u001b[0m\u001b[0mread_sql_query\u001b[0m\u001b[1;33m(\u001b[0m\u001b[1;34m\"SELECT * FROM Beginning_Location_All\"\u001b[0m\u001b[1;33m,\u001b[0m \u001b[0mcnx\u001b[0m\u001b[1;33m)\u001b[0m\u001b[1;33m\u001b[0m\u001b[1;33m\u001b[0m\u001b[0m\n\u001b[0m",
      "\u001b[1;32m~\\anaconda3\\lib\\site-packages\\pandas\\io\\sql.py\u001b[0m in \u001b[0;36mread_sql_query\u001b[1;34m(sql, con, index_col, coerce_float, params, parse_dates, chunksize)\u001b[0m\n\u001b[0;32m    392\u001b[0m         \u001b[0mcoerce_float\u001b[0m\u001b[1;33m=\u001b[0m\u001b[0mcoerce_float\u001b[0m\u001b[1;33m,\u001b[0m\u001b[1;33m\u001b[0m\u001b[1;33m\u001b[0m\u001b[0m\n\u001b[0;32m    393\u001b[0m         \u001b[0mparse_dates\u001b[0m\u001b[1;33m=\u001b[0m\u001b[0mparse_dates\u001b[0m\u001b[1;33m,\u001b[0m\u001b[1;33m\u001b[0m\u001b[1;33m\u001b[0m\u001b[0m\n\u001b[1;32m--> 394\u001b[1;33m         \u001b[0mchunksize\u001b[0m\u001b[1;33m=\u001b[0m\u001b[0mchunksize\u001b[0m\u001b[1;33m,\u001b[0m\u001b[1;33m\u001b[0m\u001b[1;33m\u001b[0m\u001b[0m\n\u001b[0m\u001b[0;32m    395\u001b[0m     )\n\u001b[0;32m    396\u001b[0m \u001b[1;33m\u001b[0m\u001b[0m\n",
      "\u001b[1;32m~\\anaconda3\\lib\\site-packages\\pandas\\io\\sql.py\u001b[0m in \u001b[0;36mread_query\u001b[1;34m(self, sql, index_col, coerce_float, params, parse_dates, chunksize)\u001b[0m\n\u001b[0;32m   1769\u001b[0m \u001b[1;33m\u001b[0m\u001b[0m\n\u001b[0;32m   1770\u001b[0m         \u001b[0margs\u001b[0m \u001b[1;33m=\u001b[0m \u001b[0m_convert_params\u001b[0m\u001b[1;33m(\u001b[0m\u001b[0msql\u001b[0m\u001b[1;33m,\u001b[0m \u001b[0mparams\u001b[0m\u001b[1;33m)\u001b[0m\u001b[1;33m\u001b[0m\u001b[1;33m\u001b[0m\u001b[0m\n\u001b[1;32m-> 1771\u001b[1;33m         \u001b[0mcursor\u001b[0m \u001b[1;33m=\u001b[0m \u001b[0mself\u001b[0m\u001b[1;33m.\u001b[0m\u001b[0mexecute\u001b[0m\u001b[1;33m(\u001b[0m\u001b[1;33m*\u001b[0m\u001b[0margs\u001b[0m\u001b[1;33m)\u001b[0m\u001b[1;33m\u001b[0m\u001b[1;33m\u001b[0m\u001b[0m\n\u001b[0m\u001b[0;32m   1772\u001b[0m         \u001b[0mcolumns\u001b[0m \u001b[1;33m=\u001b[0m \u001b[1;33m[\u001b[0m\u001b[0mcol_desc\u001b[0m\u001b[1;33m[\u001b[0m\u001b[1;36m0\u001b[0m\u001b[1;33m]\u001b[0m \u001b[1;32mfor\u001b[0m \u001b[0mcol_desc\u001b[0m \u001b[1;32min\u001b[0m \u001b[0mcursor\u001b[0m\u001b[1;33m.\u001b[0m\u001b[0mdescription\u001b[0m\u001b[1;33m]\u001b[0m\u001b[1;33m\u001b[0m\u001b[1;33m\u001b[0m\u001b[0m\n\u001b[0;32m   1773\u001b[0m \u001b[1;33m\u001b[0m\u001b[0m\n",
      "\u001b[1;32m~\\anaconda3\\lib\\site-packages\\pandas\\io\\sql.py\u001b[0m in \u001b[0;36mexecute\u001b[1;34m(self, *args, **kwargs)\u001b[0m\n\u001b[0;32m   1735\u001b[0m \u001b[1;33m\u001b[0m\u001b[0m\n\u001b[0;32m   1736\u001b[0m             \u001b[0mex\u001b[0m \u001b[1;33m=\u001b[0m \u001b[0mDatabaseError\u001b[0m\u001b[1;33m(\u001b[0m\u001b[1;34mf\"Execution failed on sql '{args[0]}': {exc}\"\u001b[0m\u001b[1;33m)\u001b[0m\u001b[1;33m\u001b[0m\u001b[1;33m\u001b[0m\u001b[0m\n\u001b[1;32m-> 1737\u001b[1;33m             \u001b[1;32mraise\u001b[0m \u001b[0mex\u001b[0m \u001b[1;32mfrom\u001b[0m \u001b[0mexc\u001b[0m\u001b[1;33m\u001b[0m\u001b[1;33m\u001b[0m\u001b[0m\n\u001b[0m\u001b[0;32m   1738\u001b[0m \u001b[1;33m\u001b[0m\u001b[0m\n\u001b[0;32m   1739\u001b[0m     \u001b[1;33m@\u001b[0m\u001b[0mstaticmethod\u001b[0m\u001b[1;33m\u001b[0m\u001b[1;33m\u001b[0m\u001b[0m\n",
      "\u001b[1;31mDatabaseError\u001b[0m: Execution failed on sql 'SELECT * FROM Beginning_Location_All': no such table: Beginning_Location_All"
     ]
    }
   ],
   "source": [
    "# exract all the beginning locations of the building simulation\n",
    "beginning_location = pd.read_sql_query(\"SELECT * FROM Beginning_Location_All\", cnx)"
   ]
  },
  {
   "cell_type": "code",
   "execution_count": 4,
   "metadata": {
    "scrolled": true
   },
   "outputs": [],
   "source": [
    "trips = pd.read_sql_query(\"SELECT start, end, origin, destination, person FROM Trip\", cnx)\n",
    "trips[\"start_hr\"] = trips.start // 3600\n",
    "trips[\"end_hr\"] = trips.end // 3600"
   ]
  },
  {
   "cell_type": "code",
   "execution_count": 5,
   "metadata": {},
   "outputs": [],
   "source": [
    "# create the data frames that have the counts of things grouped by start hr & origin and end hr & destination\n",
    "departs = trips.groupby(['start_hr','origin']).size().reset_index(name='countleave')\n",
    "arrives = trips.groupby(['end_hr','destination']).size().reset_index(name='countarrive')"
   ]
  },
  {
   "cell_type": "code",
   "execution_count": 6,
   "metadata": {},
   "outputs": [
    {
     "output_type": "error",
     "ename": "NameError",
     "evalue": "name 'beginning_location' is not defined",
     "traceback": [
      "\u001b[1;31m---------------------------------------------------------------------------\u001b[0m",
      "\u001b[1;31mNameError\u001b[0m                                 Traceback (most recent call last)",
      "\u001b[1;32m<ipython-input-6-a485a4807836>\u001b[0m in \u001b[0;36m<module>\u001b[1;34m\u001b[0m\n\u001b[0;32m      3\u001b[0m \u001b[1;32mfor\u001b[0m \u001b[0mi\u001b[0m \u001b[1;32min\u001b[0m \u001b[0mrange\u001b[0m\u001b[1;33m(\u001b[0m\u001b[1;36m24\u001b[0m\u001b[1;33m)\u001b[0m\u001b[1;33m:\u001b[0m\u001b[1;33m\u001b[0m\u001b[1;33m\u001b[0m\u001b[0m\n\u001b[0;32m      4\u001b[0m     departm[i] = pd.merge(\n\u001b[1;32m----> 5\u001b[1;33m         \u001b[0mbeginning_location\u001b[0m\u001b[1;33m,\u001b[0m \u001b[0mdeparts\u001b[0m\u001b[1;33m[\u001b[0m\u001b[0mdeparts\u001b[0m\u001b[1;33m.\u001b[0m\u001b[0mstart_hr\u001b[0m \u001b[1;33m==\u001b[0m \u001b[0mi\u001b[0m\u001b[1;33m]\u001b[0m\u001b[1;33m,\u001b[0m\u001b[1;33m\u001b[0m\u001b[1;33m\u001b[0m\u001b[0m\n\u001b[0m\u001b[0;32m      6\u001b[0m         \u001b[0mleft_on\u001b[0m\u001b[1;33m=\u001b[0m\u001b[1;34m'location'\u001b[0m\u001b[1;33m,\u001b[0m \u001b[0mright_on\u001b[0m\u001b[1;33m=\u001b[0m\u001b[1;34m'origin'\u001b[0m\u001b[1;33m,\u001b[0m \u001b[0mhow\u001b[0m\u001b[1;33m=\u001b[0m\u001b[1;34m'left'\u001b[0m\u001b[1;33m\u001b[0m\u001b[1;33m\u001b[0m\u001b[0m\n\u001b[0;32m      7\u001b[0m     ).fillna(0)\n",
      "\u001b[1;31mNameError\u001b[0m: name 'beginning_location' is not defined"
     ]
    }
   ],
   "source": [
    "departm = {}\n",
    "arrivem = {}\n",
    "for i in range(24):\n",
    "    departm[i] = pd.merge(\n",
    "        beginning_location, departs[departs.start_hr == i],\n",
    "        left_on='location', right_on='origin', how='left'\n",
    "    ).fillna(0)\n",
    "    arrivem[i] = pd.merge(\n",
    "        beginning_location, arrives[arrives.end_hr == i],\n",
    "        left_on='location', right_on='destination', how='left'\n",
    "    ).fillna(0)"
   ]
  },
  {
   "cell_type": "code",
   "execution_count": 8,
   "metadata": {},
   "outputs": [],
   "source": [
    "occm = {}\n",
    "occm[0] = departm[0].occupants + arrivem[0].countarrive - departm[0].countleave\n",
    "for i in range(1, 24):\n",
    "    occm[i] = occm[i-1] + arrivem[i].countarrive - departm[i].countleave"
   ]
  },
  {
   "cell_type": "code",
   "execution_count": 9,
   "metadata": {},
   "outputs": [],
   "source": [
    "occupancy = pd.DataFrame(occm)"
   ]
  },
  {
   "cell_type": "code",
   "execution_count": 10,
   "metadata": {},
   "outputs": [],
   "source": [
    "occupancy[\"location\"]=beginning_location.location\n",
    "occupancy['land_use']=beginning_location.land_use"
   ]
  },
  {
   "cell_type": "code",
   "execution_count": 11,
   "metadata": {},
   "outputs": [],
   "source": [
    "cols=['location', 'land_use',0, 1, 2, 3, 4, 5, 6, 7, 8, 9, 10, 11, 12, 13, 14, 15, 16, 17, 18, 19, 20, 21, 22, 23]\n",
    "occupancy = occupancy[cols]"
   ]
  },
  {
   "cell_type": "code",
   "execution_count": 12,
   "metadata": {
    "scrolled": true
   },
   "outputs": [],
   "source": [
    "# Remove locations with no occupancy activity\n",
    "occupancy_clean = occupancy[occupancy.iloc[:, 2:].abs().sum(axis=1) != 0]"
   ]
  },
  {
   "cell_type": "code",
   "execution_count": 13,
   "metadata": {},
   "outputs": [],
   "source": [
    "# Group locations by land use type\n",
    "land_uses = occupancy_clean.land_use.unique()\n",
    "occu_profiles = {}\n",
    "for land in land_uses:\n",
    "    profiles = occupancy_clean[occupancy_clean.land_use == land].drop('land_use', axis=1)\n",
    "    occu_profiles[land] = profiles.set_index('location')"
   ]
  },
  {
   "cell_type": "code",
   "execution_count": 14,
   "metadata": {},
   "outputs": [],
   "source": [
    "hr = range(24)"
   ]
  },
  {
   "cell_type": "code",
   "execution_count": 15,
   "metadata": {
    "scrolled": true
   },
   "outputs": [],
   "source": [
    "# Occupancy schedules by land use type\n",
    "fig, axs = plt.subplots(5, 2, figsize=(16, 20))\n",
    "axs_flat = [x for y in axs for x in y]\n",
    "for i, ax in enumerate(axs_flat[:-1]):\n",
    "    land_type = list(occu_profiles.keys())[i]\n",
    "    df = occu_profiles[land_type]\n",
    "    ax.step(hr, df.mean(axis=0), color=[0, 0.45, 0.7], label='average')\n",
    "    ax.fill_between(\n",
    "        hr, df.min(axis=0), df.max(axis=0),\n",
    "        step='pre', color=[0, 0.45, 0.7], alpha=0.5, label='range'\n",
    "    )\n",
    "    ax.set_xticks(range(0, 24, 2))\n",
    "    ax.tick_params(labelsize=14)\n",
    "    ax.set_xlabel('hour', fontsize=14)\n",
    "    ax.set_ylabel('occupancy', fontsize=14)\n",
    "    ax.legend(fontsize=14)\n",
    "    ax.set_xlim([0,23])\n",
    "    ax.set_ylim([df.min().min() - 1,df.max().max() + 1])\n",
    "    ax.set_title(land_type, fontsize=18)\n",
    "fig.tight_layout()\n",
    "fig.savefig('.\\output\\occupancy_by_land_use_type.png', bbox_inches='tight', dpi=600)\n",
    "plt.close()"
   ]
  },
  {
   "cell_type": "code",
   "execution_count": 16,
   "metadata": {
    "scrolled": true
   },
   "outputs": [],
   "source": [
    "# Histogram of maximum occupancy by land use type\n",
    "fig, axs = plt.subplots(5, 2, figsize=(12, 20))\n",
    "axs_flat = [x for y in axs for x in y]\n",
    "for i, ax in enumerate(axs_flat[:-1]):\n",
    "    land_type = list(occu_profiles.keys())[i]\n",
    "    df = occu_profiles[land_type]\n",
    "    ax.hist(\n",
    "        x=df.max(axis=1).values, color=[0, 0.45, 0.7],\n",
    "        alpha=0.5, label='all buildings'\n",
    "    )\n",
    "    ax.axvline(\n",
    "        x=df.max(axis=1).mean(), color=[0, 0.45, 0.7],\n",
    "        linewidth=2, label='average'\n",
    "    )\n",
    "    # ax.set_xticks(range(0, 24, 1))\n",
    "    ax.tick_params(labelsize=14)\n",
    "    ax.set_xlabel('Maximum occpuancy', fontsize=14)\n",
    "    ax.set_ylabel('Counts', fontsize=14)\n",
    "    ax.legend(fontsize=14)\n",
    "    ax.set_title(land_type, fontsize=18)\n",
    "fig.tight_layout()\n",
    "fig.savefig('.\\output\\maximum_occupancy_by_land_use_type.png', bbox_inches='tight', dpi=600)\n",
    "plt.close()"
   ]
  },
  {
   "cell_type": "code",
   "execution_count": 17,
   "metadata": {},
   "outputs": [],
   "source": [
    "# Export occupancy profile data\n",
    "for key, value in occu_profiles.items():\n",
    "    csv_out = '.\\output\\Detroit_occupancy_{}.csv'.format(key.lower())\n",
    "    value.to_csv(csv_out)"
   ]
  },
  {
   "cell_type": "markdown",
   "metadata": {},
   "source": [
    "Clean and normalization"
   ]
  },
  {
   "cell_type": "code",
   "execution_count": 18,
   "metadata": {
    "scrolled": true
   },
   "outputs": [],
   "source": [
    "# Extract schedules with 4+ maximum occupancy and 0+ minimum occupancy\n",
    "occu_profiles_clean = {}\n",
    "for key, value in occu_profiles.items():\n",
    "    occu_profiles_clean[key] = value[(value.max(axis=1) >= 4) & (value.min(axis=1) >= 0)]"
   ]
  },
  {
   "cell_type": "code",
   "execution_count": 19,
   "metadata": {},
   "outputs": [],
   "source": [
    "# Normalize by maximum occupancy\n",
    "occu_profiles_clean_norm = {}\n",
    "for key, value in occu_profiles_clean.items():\n",
    "    occu_profiles_clean_norm[key] = value.div(value.max(axis=1), axis=0)"
   ]
  },
  {
   "cell_type": "code",
   "execution_count": 20,
   "metadata": {},
   "outputs": [],
   "source": [
    "land_types = ['BUSINESS', 'RESIDENTIAL-MULTI']"
   ]
  },
  {
   "cell_type": "code",
   "execution_count": 21,
   "metadata": {},
   "outputs": [],
   "source": [
    "# Cleaned occupancy schedules by land use type\n",
    "for land_type in land_types:\n",
    "    fig = plt.figure(figsize=(12, 5))\n",
    "    ax = fig.add_subplot(111)\n",
    "    df = occu_profiles_clean[land_type]\n",
    "    ax.step(hr, df.mean(axis=0), color=[0, 0.45, 0.7], label='average')\n",
    "    ax.fill_between(\n",
    "        hr, df.min(axis=0), df.max(axis=0),\n",
    "        step='pre', color=[0, 0.45, 0.7], alpha=0.5, label='range'\n",
    "    )\n",
    "    ax.set_xticks(range(0, 24, 2))\n",
    "    ax.tick_params(labelsize=14)\n",
    "    ax.set_xlabel('hour', fontsize=14)\n",
    "    ax.set_ylabel('occupancy', fontsize=14)\n",
    "    ax.legend(fontsize=14)\n",
    "    ax.set_xlim([0,23])\n",
    "    ax.set_ylim([df.min().min() - 1,df.max().max() + 1])\n",
    "    ax.set_title(land_type, fontsize=18)\n",
    "    fig.savefig('.\\output\\occupancy_clean_{}.png'.format(land_type.lower()), bbox_inches='tight', dpi=600)\n",
    "    plt.close()"
   ]
  },
  {
   "cell_type": "code",
   "execution_count": 22,
   "metadata": {},
   "outputs": [],
   "source": [
    "# Plot average occupancy profiles with 95% range\n",
    "for land_type in land_types:\n",
    "    fig = plt.figure(figsize=(12, 5))\n",
    "    ax = fig.add_subplot(111)\n",
    "    df = occu_profiles_clean_norm[land_type]\n",
    "    ax.step(hr, df.mean(axis=0), color=[0, 0.45, 0.7], label='average')\n",
    "    ax.fill_between(\n",
    "        hr, df.quantile(0.025, axis=0), df.quantile(0.975, axis=0),\n",
    "        step='pre', color=[0, 0.45, 0.7], alpha=0.5, label='95% range'\n",
    "    )\n",
    "    ax.set_xticks(range(0, 24, 2))\n",
    "    ax.tick_params(labelsize=14)\n",
    "    ax.set_xlabel('hour', fontsize=14)\n",
    "    ax.set_ylabel('occupancy percentage', fontsize=14)\n",
    "    ax.legend(fontsize=14)\n",
    "    ax.set_xlim([0,23])\n",
    "    ax.set_title(land_type, fontsize=18)\n",
    "    fig.savefig('.\\output\\occupancy_clean_norm_{}.png'.format(land_type.lower()), bbox_inches='tight', dpi=600)\n",
    "    plt.close()"
   ]
  },
  {
   "cell_type": "code",
   "execution_count": 23,
   "metadata": {},
   "outputs": [],
   "source": [
    "# Export cleaned and normalized data\n",
    "for land_type in land_types:\n",
    "    csv_out_clean = '.\\output\\Detroit_occupancy_clean_{}.csv'.format(land_type.lower())\n",
    "    csv_out_clean_norm = '.\\output\\Detroit_occupancy_clean_norm_{}.csv'.format(land_type.lower())\n",
    "    occu_profiles_clean[land_type].to_csv(csv_out_clean)\n",
    "    occu_profiles_clean_norm[land_type].to_csv(csv_out_clean_norm)"
   ]
  },
  {
   "cell_type": "code",
   "execution_count": 24,
   "metadata": {},
   "outputs": [
    {
     "data": {
      "text/plain": [
       "4.0     107\n",
       "5.0      41\n",
       "6.0      20\n",
       "7.0       9\n",
       "10.0      3\n",
       "12.0      3\n",
       "11.0      2\n",
       "8.0       2\n",
       "14.0      1\n",
       "15.0      1\n",
       "13.0      1\n",
       "9.0       1\n",
       "dtype: int64"
      ]
     },
     "execution_count": 24,
     "metadata": {},
     "output_type": "execute_result"
    }
   ],
   "source": [
    "occu_profiles_clean['BUSINESS'].max(axis=1).value_counts()"
   ]
  },
  {
   "cell_type": "code",
   "execution_count": 25,
   "metadata": {},
   "outputs": [
    {
     "data": {
      "text/plain": [
       "4.0     133\n",
       "5.0      82\n",
       "6.0      35\n",
       "7.0      26\n",
       "8.0      11\n",
       "9.0      10\n",
       "10.0      8\n",
       "11.0      7\n",
       "15.0      3\n",
       "12.0      3\n",
       "13.0      2\n",
       "19.0      1\n",
       "28.0      1\n",
       "16.0      1\n",
       "14.0      1\n",
       "dtype: int64"
      ]
     },
     "execution_count": 25,
     "metadata": {},
     "output_type": "execute_result"
    }
   ],
   "source": [
    "occu_profiles_clean['RESIDENTIAL-MULTI'].max(axis=1).value_counts()"
   ]
  },
  {
   "cell_type": "code",
   "execution_count": 26,
   "metadata": {},
   "outputs": [
    {
     "data": {
      "text/plain": [
       "191"
      ]
     },
     "execution_count": 26,
     "metadata": {},
     "output_type": "execute_result"
    }
   ],
   "source": [
    "occu_profiles_clean['BUSINESS'].max(axis=1).value_counts().sum()"
   ]
  },
  {
   "cell_type": "code",
   "execution_count": 27,
   "metadata": {},
   "outputs": [
    {
     "data": {
      "text/plain": [
       "324"
      ]
     },
     "execution_count": 27,
     "metadata": {},
     "output_type": "execute_result"
    }
   ],
   "source": [
    "occu_profiles_clean['RESIDENTIAL-MULTI'].max(axis=1).value_counts().sum()"
   ]
  },
  {
   "cell_type": "code",
   "execution_count": 28,
   "metadata": {},
   "outputs": [],
   "source": [
    "# Reference schedules from prototype building models\n",
    "ref_sches = {\n",
    "    'occupancy': {\n",
    "            'BUSINESS': [\n",
    "                0, 0, 0, 0, 0, 0, 0.11, 0.21, 1, 1, 1, 1,\n",
    "                0.53, 1, 1, 1, 1, 0.32, 0.11, 0.11, 0.11, 0.11, 0.05, 0\n",
    "            ],\n",
    "            'RESIDENTIAL-MULTI': [\n",
    "                1, 1, 1, 1, 1, 1, 1, 0.85, 0.39, 0.25, 0.25, 0.25,\n",
    "                0.25, 0.25, 0.25, 0.25, 0.30, 0.52, 0.87, 0.87, 0.87, 1, 1, 1\n",
    "            ]\n",
    "    },\n",
    "    'light': {\n",
    "            'BUSINESS': [\n",
    "                0.18, 0.18, 0.18, 0.18, 0.18, 0.23, 0.23, 0.42, 0.9, 0.9, 0.9, 0.9,\n",
    "                0.8, 0.9, 0.9, 0.9, 0.9, 0.61, 0.42, 0.42, 0.32, 0.32, 0.23, 0.18\n",
    "            ],\n",
    "            'RESIDENTIAL-MULTI': [\n",
    "                0.011, 0.011, 0.011, 0.011, 0.034, 0.074, 0.079, 0.074, 0.034, 0.023, 0.023, 0.023,\n",
    "                0.023, 0.023, 0.023, 0.040, 0.079, 0.113, 0.153, 0.181, 0.181, 0.124, 0.068, 0.028\n",
    "                \n",
    "            ]\n",
    "    },\n",
    "    'plug': {\n",
    "            'BUSINESS': [\n",
    "                0.5, 0.5, 0.5, 0.5, 0.5, 1, 1, 1, 1, 1, 1, 1,\n",
    "                0.94, 1, 1, 1, 1, 0.5, 0.2, 0.2, 0.2, 0.2, 0.2, 0.2\n",
    "            ],\n",
    "            'RESIDENTIAL-MULTI': [\n",
    "                0.45, 0.41, 0.39, 0.38, 0.38, 0.43, 0.54, 0.65, 0.66, 0.67, 0.69, 0.70,\n",
    "                0.69, 0.66, 0.65, 0.68, 0.80, 1.00, 1.00, 0.93, 0.89, 0.85, 0.71, 0.58\n",
    "            ]\n",
    "    },\n",
    "}"
   ]
  },
  {
   "cell_type": "code",
   "execution_count": 29,
   "metadata": {},
   "outputs": [],
   "source": [
    "# Adjust lighting and plug load schedules using KNN regression\n",
    "def adjust_sche(elec_ref, occu_ref, occu, n=3):\n",
    "    hours_adjusted = np.asarray(range(1, 25)) / 24 * np.pi\n",
    "    occu_ref_array = np.asarray(occu_ref)\n",
    "    elec_ref_array = np.asarray(elec_ref)\n",
    "    elec = []\n",
    "    for i in range(24):\n",
    "        dist = np.sqrt(\n",
    "            np.sin(abs(hours_adjusted - (i+1) / 24 * np.pi)) ** 2 + (occu_ref_array - occu[i]) ** 2\n",
    "        )\n",
    "        try:\n",
    "            elec.append(elec_ref_array[dist == 0][0])\n",
    "        except IndexError:\n",
    "            idxs = np.argsort(dist)[:n]\n",
    "            elec.append(np.average(elec_ref_array[idxs], weights=1/dist[idxs]).round(3))\n",
    "    return elec\n"
   ]
  },
  {
   "cell_type": "code",
   "execution_count": 30,
   "metadata": {},
   "outputs": [],
   "source": [
    "# Lighting\n",
    "light_profiles_clean_norm = {}\n",
    "for land_type in land_types:\n",
    "    light_sche = occu_profiles_clean_norm[land_type].copy()\n",
    "    for i in range(occu_profiles_clean_norm[land_type].shape[0]):\n",
    "        light_sche.iloc[i, :] = adjust_sche(\n",
    "            ref_sches['light'][land_type],\n",
    "            ref_sches['occupancy'][land_type],\n",
    "            occu_profiles_clean_norm[land_type].iloc[i, :]\n",
    "        )\n",
    "    light_profiles_clean_norm[land_type] = light_sche"
   ]
  },
  {
   "cell_type": "code",
   "execution_count": 31,
   "metadata": {},
   "outputs": [],
   "source": [
    "# Plug\n",
    "plug_profiles_clean_norm = {}\n",
    "for land_type in land_types:\n",
    "    plug_sche = occu_profiles_clean_norm[land_type].copy()\n",
    "    for i in range(occu_profiles_clean_norm[land_type].shape[0]):\n",
    "        plug_sche.iloc[i, :] = adjust_sche(\n",
    "            ref_sches['plug'][land_type],\n",
    "            ref_sches['occupancy'][land_type],\n",
    "            occu_profiles_clean_norm[land_type].iloc[i, :]\n",
    "        )\n",
    "    plug_profiles_clean_norm[land_type] = plug_sche"
   ]
  },
  {
   "cell_type": "code",
   "execution_count": 32,
   "metadata": {},
   "outputs": [],
   "source": [
    "# Plot average occupancy profiles with 90% range and reference schedules\n",
    "for land_type in land_types:\n",
    "    fig = plt.figure(figsize=(7, 5))\n",
    "    ax = fig.add_subplot(111)\n",
    "    df = occu_profiles_clean_norm[land_type]\n",
    "    ax.step(hr, df.mean(axis=0), color=[0, 0.45, 0.7], label='average')\n",
    "    ax.fill_between(\n",
    "        hr, df.quantile(0.05, axis=0), df.quantile(0.95, axis=0),\n",
    "        step='pre', color=[0, 0.45, 0.7], alpha=0.3, label='90% range'\n",
    "    )\n",
    "    ax.step(hr, ref_sches['occupancy'][land_type], color='k', linestyle='--', label='DOE REF')\n",
    "    ax.set_xticks(range(0, 24, 2))\n",
    "    ax.tick_params(labelsize=14)\n",
    "    ax.set_xlabel('hour', fontsize=14)\n",
    "    ax.set_ylabel('occupancy percentage', fontsize=14)\n",
    "    ax.legend(fontsize=12)\n",
    "    ax.set_xlim([0,23])\n",
    "    ax.set_title(land_type, fontsize=18)\n",
    "    fig.savefig('.\\output\\occupancy_clean_norm_with_ref_{}.png'.format(land_type.lower()), bbox_inches='tight', dpi=600)\n",
    "    plt.close()"
   ]
  },
  {
   "cell_type": "code",
   "execution_count": 33,
   "metadata": {},
   "outputs": [],
   "source": [
    "# Plot average lighting profiles with 90% range and reference schedules\n",
    "for land_type in land_types:\n",
    "    fig = plt.figure(figsize=(7, 5))\n",
    "    ax = fig.add_subplot(111)\n",
    "    df = light_profiles_clean_norm[land_type]\n",
    "    ax.step(hr, df.mean(axis=0), color=[0, 0.45, 0.7], label='average')\n",
    "    ax.fill_between(\n",
    "        hr, df.quantile(0.05, axis=0), df.quantile(0.95, axis=0),\n",
    "        step='pre', color=[0, 0.45, 0.7], alpha=0.3, label='90% range'\n",
    "    )\n",
    "    ax.step(hr, ref_sches['light'][land_type], color='k', linestyle='--', label='DOE REF')\n",
    "    ax.set_xticks(range(0, 24, 2))\n",
    "    ax.tick_params(labelsize=14)\n",
    "    ax.set_xlabel('hour', fontsize=14)\n",
    "    ax.set_ylabel('lighting percentage', fontsize=14)\n",
    "    ax.legend(fontsize=12)\n",
    "    ax.set_xlim([0,23])\n",
    "    ax.set_title(land_type, fontsize=18)\n",
    "    fig.savefig('.\\output\\lighting_clean_norm_with_ref_{}.png'.format(land_type.lower()), bbox_inches='tight', dpi=600)\n",
    "    plt.close()"
   ]
  },
  {
   "cell_type": "code",
   "execution_count": 34,
   "metadata": {},
   "outputs": [],
   "source": [
    "# Plot average plug load profiles with 90% range and reference schedules\n",
    "for land_type in land_types:\n",
    "    fig = plt.figure(figsize=(7, 5))\n",
    "    ax = fig.add_subplot(111)\n",
    "    df = plug_profiles_clean_norm[land_type]\n",
    "    ax.step(hr, df.mean(axis=0), color=[0, 0.45, 0.7], label='average')\n",
    "    ax.fill_between(\n",
    "        hr, df.quantile(0.05, axis=0), df.quantile(0.95, axis=0),\n",
    "        step='pre', color=[0, 0.45, 0.7], alpha=0.3, label='90% range'\n",
    "    )\n",
    "    ax.step(hr, ref_sches['plug'][land_type], color='k', linestyle='--', label='DOE REF')\n",
    "    ax.set_xticks(range(0, 24, 2))\n",
    "    ax.tick_params(labelsize=14)\n",
    "    ax.set_xlabel('hour', fontsize=14)\n",
    "    ax.set_ylabel('plug load percentage', fontsize=14)\n",
    "    ax.legend(fontsize=12)\n",
    "    ax.set_xlim([0,23])\n",
    "    ax.set_title(land_type, fontsize=18)\n",
    "    fig.savefig('.\\output\\plugload_clean_norm_with_ref_{}.png'.format(land_type.lower()), bbox_inches='tight', dpi=600)\n",
    "    plt.close()"
   ]
  },
  {
   "cell_type": "code",
   "execution_count": 35,
   "metadata": {},
   "outputs": [
    {
     "data": {
      "text/plain": [
       "0     0.000000\n",
       "1     0.000000\n",
       "2     0.002443\n",
       "3     0.005846\n",
       "4     0.019368\n",
       "5     0.076923\n",
       "6     0.228767\n",
       "7     0.485752\n",
       "8     0.703579\n",
       "9     0.755580\n",
       "10    0.770876\n",
       "11    0.767485\n",
       "12    0.750518\n",
       "13    0.663617\n",
       "14    0.595604\n",
       "15    0.481052\n",
       "16    0.364566\n",
       "17    0.286797\n",
       "18    0.254291\n",
       "19    0.196786\n",
       "20    0.138565\n",
       "21    0.087167\n",
       "22    0.068171\n",
       "23    0.059736\n",
       "dtype: float64"
      ]
     },
     "execution_count": 35,
     "metadata": {},
     "output_type": "execute_result"
    }
   ],
   "source": [
    "occu_profiles_clean_norm['BUSINESS'].mean(axis=0)"
   ]
  },
  {
   "cell_type": "code",
   "execution_count": 36,
   "metadata": {},
   "outputs": [
    {
     "data": {
      "text/plain": [
       "0     0.180000\n",
       "1     0.180000\n",
       "2     0.180000\n",
       "3     0.180000\n",
       "4     0.181393\n",
       "5     0.239880\n",
       "6     0.305571\n",
       "7     0.552670\n",
       "8     0.752675\n",
       "9     0.821832\n",
       "10    0.852948\n",
       "11    0.854073\n",
       "12    0.852702\n",
       "13    0.834984\n",
       "14    0.799602\n",
       "15    0.715319\n",
       "16    0.600775\n",
       "17    0.551770\n",
       "18    0.495712\n",
       "19    0.426246\n",
       "20    0.354634\n",
       "21    0.295539\n",
       "22    0.239974\n",
       "23    0.185565\n",
       "dtype: float64"
      ]
     },
     "execution_count": 36,
     "metadata": {},
     "output_type": "execute_result"
    }
   ],
   "source": [
    "light_profiles_clean_norm['BUSINESS'].mean(axis=0)"
   ]
  },
  {
   "cell_type": "code",
   "execution_count": 37,
   "metadata": {},
   "outputs": [
    {
     "data": {
      "text/plain": [
       "0     0.500000\n",
       "1     0.500000\n",
       "2     0.500000\n",
       "3     0.500000\n",
       "4     0.513916\n",
       "5     0.984073\n",
       "6     1.000000\n",
       "7     1.000000\n",
       "8     0.999723\n",
       "9     0.995257\n",
       "10    0.993555\n",
       "11    0.984450\n",
       "12    0.969565\n",
       "13    0.928005\n",
       "14    0.856309\n",
       "15    0.707984\n",
       "16    0.494838\n",
       "17    0.412660\n",
       "18    0.333157\n",
       "19    0.252644\n",
       "20    0.209283\n",
       "21    0.200497\n",
       "22    0.200000\n",
       "23    0.217738\n",
       "dtype: float64"
      ]
     },
     "execution_count": 37,
     "metadata": {},
     "output_type": "execute_result"
    }
   ],
   "source": [
    "plug_profiles_clean_norm['BUSINESS'].mean(axis=0)"
   ]
  },
  {
   "cell_type": "code",
   "execution_count": 38,
   "metadata": {},
   "outputs": [
    {
     "data": {
      "text/plain": [
       "0     0.965503\n",
       "1     0.964269\n",
       "2     0.959948\n",
       "3     0.957316\n",
       "4     0.953921\n",
       "5     0.916980\n",
       "6     0.819804\n",
       "7     0.611342\n",
       "8     0.521815\n",
       "9     0.475822\n",
       "10    0.434599\n",
       "11    0.423978\n",
       "12    0.437045\n",
       "13    0.465928\n",
       "14    0.561065\n",
       "15    0.635837\n",
       "16    0.654915\n",
       "17    0.689124\n",
       "18    0.721131\n",
       "19    0.749078\n",
       "20    0.802984\n",
       "21    0.843939\n",
       "22    0.866332\n",
       "23    0.885330\n",
       "dtype: float64"
      ]
     },
     "execution_count": 38,
     "metadata": {},
     "output_type": "execute_result"
    }
   ],
   "source": [
    "occu_profiles_clean_norm['RESIDENTIAL-MULTI'].mean(axis=0)"
   ]
  },
  {
   "cell_type": "code",
   "execution_count": 39,
   "metadata": {},
   "outputs": [
    {
     "data": {
      "text/plain": [
       "0     0.011769\n",
       "1     0.011000\n",
       "2     0.011000\n",
       "3     0.012330\n",
       "4     0.035182\n",
       "5     0.069694\n",
       "6     0.071935\n",
       "7     0.055892\n",
       "8     0.042981\n",
       "9     0.036676\n",
       "10    0.029691\n",
       "11    0.026574\n",
       "12    0.025941\n",
       "13    0.029636\n",
       "14    0.054302\n",
       "15    0.097716\n",
       "16    0.116015\n",
       "17    0.132944\n",
       "18    0.144725\n",
       "19    0.164867\n",
       "20    0.165590\n",
       "21    0.134009\n",
       "22    0.073713\n",
       "23    0.031781\n",
       "dtype: float64"
      ]
     },
     "execution_count": 39,
     "metadata": {},
     "output_type": "execute_result"
    }
   ],
   "source": [
    "light_profiles_clean_norm['RESIDENTIAL-MULTI'].mean(axis=0)"
   ]
  },
  {
   "cell_type": "code",
   "execution_count": 40,
   "metadata": {},
   "outputs": [
    {
     "data": {
      "text/plain": [
       "0     0.454216\n",
       "1     0.410938\n",
       "2     0.390519\n",
       "3     0.380571\n",
       "4     0.385392\n",
       "5     0.446373\n",
       "6     0.566580\n",
       "7     0.626991\n",
       "8     0.649895\n",
       "9     0.658543\n",
       "10    0.675423\n",
       "11    0.688157\n",
       "12    0.686312\n",
       "13    0.682028\n",
       "14    0.744580\n",
       "15    0.868210\n",
       "16    0.917451\n",
       "17    0.959080\n",
       "18    0.958185\n",
       "19    0.935019\n",
       "20    0.900571\n",
       "21    0.846904\n",
       "22    0.714898\n",
       "23    0.580907\n",
       "dtype: float64"
      ]
     },
     "execution_count": 40,
     "metadata": {},
     "output_type": "execute_result"
    }
   ],
   "source": [
    "plug_profiles_clean_norm['RESIDENTIAL-MULTI'].mean(axis=0)"
   ]
  }
 ],
 "metadata": {
  "kernelspec": {
   "name": "python3",
   "display_name": "Python 3.7.10 64-bit ('base': conda)"
  },
  "language_info": {
   "codemirror_mode": {
    "name": "ipython",
    "version": 3
   },
   "file_extension": ".py",
   "mimetype": "text/x-python",
   "name": "python",
   "nbconvert_exporter": "python",
   "pygments_lexer": "ipython3",
   "version": "3.7.10"
  },
  "interpreter": {
   "hash": "17d820ce7147816d2063c5052dbf10120f107a9a4f06387eb6d5dd9d2b00117c"
  }
 },
 "nbformat": 4,
 "nbformat_minor": 2
}